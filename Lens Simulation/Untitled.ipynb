{
 "cells": [
  {
   "cell_type": "code",
   "execution_count": 1,
   "metadata": {},
   "outputs": [],
   "source": [
    "#\n",
    "# lensdemo_script.py\n",
    "#\n",
    "# A script to allow simple explortation of gravitational lensing\n",
    "# of extended objects (i.e., galaxies) by the gravity of a singular\n",
    "# isothermal ellipsoid (SIE) potential.\n",
    "#\n",
    "# This script is meant to be used as a cut-and-paste guide to an interactive\n",
    "# python2.5 command-line session, and is not necessarily to be run in\n",
    "# unmodified form from end to end.\n",
    "#\n",
    "# Requires numpy and matplotlib, as well as the suporting file \"lensdemo_funcs.py\"\n",
    "#\n",
    "# Copyright 2009 by Adam S. Bolton\n",
    "# Creative Commons Attribution-Noncommercial-ShareAlike 3.0 license applies:\n",
    "# http://creativecommons.org/licenses/by-nc-sa/3.0/\n",
    "# All redistributions, modified or otherwise, must include this\n",
    "# original copyright notice, licensing statement, and disclaimer.\n",
    "# DISCLAIMER: ABSOLUTELY NO WARRANTY EXPRESS OR IMPLIED.\n",
    "# AUTHOR ASSUMES NO LIABILITY IN CONNECTION WITH THIS COMPUTER CODE.\n",
    "#\n",
    "\n",
    "# Import the necessary packages\n",
    "import numpy as n\n",
    "import matplotlib as m\n",
    "# The following 2 lines are necessary to make the\n",
    "# GUI work right, at least for me. YMMV!\n",
    "m.use('TkAgg')\n",
    "m.interactive(True)\n",
    "from matplotlib import pyplot as p\n",
    "from matplotlib import cm\n",
    "import lensdemo_funcs as ldf"
   ]
  },
  {
   "cell_type": "code",
   "execution_count": 63,
   "metadata": {},
   "outputs": [],
   "source": [
    "# Package some image display preferences in a dictionary object, for use below:\n",
    "myargs = {'interpolation': 'nearest', 'origin': 'lower', 'cmap': cm.magma}\n",
    "#myargs = {'interpolation': 'nearest', 'origin': 'lower', 'cmap': cm.spectral}\n"
   ]
  },
  {
   "cell_type": "code",
   "execution_count": 71,
   "metadata": {},
   "outputs": [],
   "source": [
    "# Make some x and y coordinate images:\n",
    "nx = 192\n",
    "ny = 192\n",
    "xhilo = [-2.5, 2.5]\n",
    "yhilo = [-2.5, 2.5]\n",
    "x = (xhilo[1] - xhilo[0]) * n.outer(n.ones(ny), n.arange(nx)) / float(nx-1) + xhilo[0]\n",
    "y = (yhilo[1] - yhilo[0]) * n.outer(n.arange(ny), n.ones(nx)) / float(ny-1) + yhilo[0]\n"
   ]
  },
  {
   "cell_type": "code",
   "execution_count": 93,
   "metadata": {},
   "outputs": [
    {
     "name": "stderr",
     "output_type": "stream",
     "text": [
      "/home/bob/anaconda3/lib/python3.6/site-packages/ipykernel_launcher.py:17: MatplotlibDeprecationWarning: axes.hold is deprecated.\n",
      "    See the API Changes document (http://matplotlib.org/api/api_changes.html)\n",
      "    for more details.\n"
     ]
    }
   ],
   "source": [
    "# Set some Gaussian blob image parameters and pack them into an array:\n",
    "g_amp = 1   # peak brightness value\n",
    "g_sig = 0.05  # Gaussian \"sigma\" (i.e., size)\n",
    "g_xcen = 1.2  # x position of center\n",
    "g_ycen = 0.0  # y position of center\n",
    "g_axrat = 1.0 # minor-to-major axis ratio\n",
    "g_pa = 0.0    # major-axis position angle (degrees) c.c.w. from x axis\n",
    "gpar = n.asarray([g_amp, g_sig, g_xcen, g_ycen, g_axrat, g_pa])\n",
    "# Have a look at the un-lensed Gaussian image:\n",
    "g_image = ldf.gauss_2d(x, y, gpar)\n",
    "f = p.imshow(g_image, **myargs)\n",
    "# IMPORTANT: Kill these imshow GUIs before redisplaying, or you will get bad memory leaks!\n",
    "# You can kill it with the \"red button\", or with the following command:\n",
    "#p.close(f.get_figure().number)\n",
    "# Alternatively, if you do the following you will probably be OK redisplaying\n",
    "# without killing the GUI:\n",
    "f.axes.hold(False)"
   ]
  },
  {
   "cell_type": "code",
   "execution_count": 95,
   "metadata": {},
   "outputs": [],
   "source": [
    "# Set some SIE lens-model parameters and pack them into an array:\n",
    "l_amp = 1.5 # Einstein radius\n",
    "l_xcen = 0  # x position of center\n",
    "l_ycen = 0  # y position of center\n",
    "l_axrat = 1 # minor-to-major axis ratio\n",
    "l_pa = 0   # major-axis position angle (degrees) c.c.w. from x axis\n",
    "lpar = n.asarray([l_amp, l_xcen, l_ycen, l_axrat, l_pa])\n",
    "\n",
    "# Compute the lensing potential gradients:\n",
    "(xg, yg) = ldf.sie_grad(x, y, lpar)\n",
    "\n",
    "# Evaluate lensed Gaussian image:\n",
    "g_lensimage = ldf.gauss_2d(x-xg, y-yg, gpar)\n",
    "\n",
    "# Have a look:\n",
    "f = p.imshow(g_lensimage, **myargs)\n"
   ]
  },
  {
   "cell_type": "code",
   "execution_count": 55,
   "metadata": {},
   "outputs": [
    {
     "name": "stderr",
     "output_type": "stream",
     "text": [
      "/home/bob/anaconda3/lib/python3.6/site-packages/ipykernel_launcher.py:8: MatplotlibDeprecationWarning: axes.hold is deprecated.\n",
      "    See the API Changes document (http://matplotlib.org/api/api_changes.html)\n",
      "    for more details.\n",
      "  \n"
     ]
    }
   ],
   "source": [
    "# If you can recall what the parameter place values mean,\n",
    "# the following lines are most efficient for exploration:\n",
    "gpar = n.asarray([1.0, 0.05, 0.5, 0.0, 1.0, 0.0])\n",
    "lpar = n.asarray([1.5, 0.0, 0.0, 1.0, 0.0])\n",
    "(xg, yg) = ldf.sie_grad(x, y, lpar)\n",
    "g_lensimage = ldf.gauss_2d(x-xg, y-yg, gpar)\n",
    "f = p.imshow(g_lensimage, **myargs)\n",
    "f.axes.hold(False)"
   ]
  },
  {
   "cell_type": "code",
   "execution_count": 56,
   "metadata": {},
   "outputs": [],
   "source": [
    "# The following lines will plot the un-lensed and lensed images side by side:\n",
    "gpar = n.asarray([1.0, 0.05, 0.0, 0.0, 1.0, 0.0])\n",
    "lpar = n.asarray([1.0, 0.0, 0.0, 1.0, 0.0])\n",
    "g_image = ldf.gauss_2d(x, y, gpar)\n",
    "(xg, yg) = ldf.sie_grad(x, y, lpar)\n",
    "g_lensimage = ldf.gauss_2d(x-xg, y-yg, gpar)\n",
    "f = p.imshow(n.hstack((g_image, g_lensimage)), **myargs)"
   ]
  },
  {
   "cell_type": "code",
   "execution_count": 57,
   "metadata": {},
   "outputs": [],
   "source": [
    "# The following lines can be used to verify that the SIE potential gradient\n",
    "# function actually computes what is is supposed to compute!\n",
    "# Feel free to disregard...\n",
    "\n",
    "# Pick some arbitrary lens parameters:\n",
    "lpar = n.asarray([1.11, -0.23, 0.59, 0.72, 33.3])\n",
    "# Compute the gradients:\n",
    "(xg, yg) = ldf.sie_grad(x, y, lpar)\n",
    "# Compute convergence as half the Laplacian of the potential from the gradients:\n",
    "kappa_g = 0.5 * ( (xg[1:-1,2:] - xg[1:-1,0:-2]) / (x[1:-1,2:] - x[1:-1,0:-2]) +\n",
    "                  (yg[2:,1:-1] - yg[0:-2,1:-1]) / (y[2:,1:-1] - y[0:-2,1:-1]))\n",
    "# Compute the expected analytic convergence for these lens parameters:\n",
    "(xn, yn) = ldf.xy_rotate(x, y, lpar[1], lpar[2], lpar[4])\n",
    "kappa_a = 0.5 * lpar[0] / n.sqrt(lpar[3]*xn[1:-1,1:-1]**2 + yn[1:-1,1:-1]**2 / lpar[3])\n",
    "\n",
    "f = p.imshow(n.hstack((n.log(kappa_g), n.log(kappa_a), n.log(kappa_g) - n.log(kappa_a))),\n",
    "             vmax=n.log(kappa_g).max(), vmin=n.log(kappa_g).min(), **myargs)\n",
    "# OK, looks good!  Some disagreement in the center, which is to be expected."
   ]
  }
 ],
 "metadata": {
  "kernelspec": {
   "display_name": "Python 3",
   "language": "python",
   "name": "python3"
  },
  "language_info": {
   "codemirror_mode": {
    "name": "ipython",
    "version": 3
   },
   "file_extension": ".py",
   "mimetype": "text/x-python",
   "name": "python",
   "nbconvert_exporter": "python",
   "pygments_lexer": "ipython3",
   "version": "3.6.2"
  }
 },
 "nbformat": 4,
 "nbformat_minor": 2
}
