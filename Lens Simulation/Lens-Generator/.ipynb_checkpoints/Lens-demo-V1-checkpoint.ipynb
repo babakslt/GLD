{
 "cells": [
  {
   "cell_type": "code",
   "execution_count": 99,
   "metadata": {},
   "outputs": [],
   "source": [
    "#\n",
    "# lensdemo_script.py\n",
    "#\n",
    "# A script to allow simple explortation of gravitational lensing\n",
    "# of extended objects (i.e., galaxies) by the gravity of a singular\n",
    "# isothermal ellipsoid (SIE) potential.\n",
    "#\n",
    "# This script is meant to be used as a cut-and-paste guide to an interactive\n",
    "# python2.5 command-line session, and is not necessarily to be run in\n",
    "# unmodified form from end to end.\n",
    "#\n",
    "# Requires numpy and matplotlib, as well as the suporting file \"lensdemo_funcs.py\"\n",
    "#\n",
    "# Copyright 2009 by Adam S. Bolton\n",
    "# Creative Commons Attribution-Noncommercial-ShareAlike 3.0 license applies:\n",
    "# http://creativecommons.org/licenses/by-nc-sa/3.0/\n",
    "# All redistributions, modified or otherwise, must include this\n",
    "# original copyright notice, licensing statement, and disclaimer.\n",
    "# DISCLAIMER: ABSOLUTELY NO WARRANTY EXPRESS OR IMPLIED.\n",
    "# AUTHOR ASSUMES NO LIABILITY IN CONNECTION WITH THIS COMPUTER CODE.\n",
    "#\n",
    "\n",
    "# Import the necessary packages\n",
    "import numpy as n\n",
    "import matplotlib as m\n",
    "# The following 2 lines are necessary to make the\n",
    "# GUI work right, at least for me. YMMV!\n",
    "m.use('TkAgg')\n",
    "m.interactive(True)\n",
    "from matplotlib import pyplot as p\n",
    "from matplotlib import cm\n",
    "import lensdemo_funcs as ldf\n",
    "import imageio\n",
    "# Package some image display preferences in a dictionary object, for use below:\n",
    "myargs = {'interpolation': 'nearest', 'origin': 'lower', 'cmap': cm.gray}\n",
    "#myargs = {'interpolation': 'nearest', 'origin': 'lower', 'cmap': cm.gray}"
   ]
  },
  {
   "cell_type": "code",
   "execution_count": 75,
   "metadata": {},
   "outputs": [],
   "source": [
    "# Make some x and y coordinate images:\n",
    "nx = 192\n",
    "ny = 192\n",
    "xhilo = [-2.5, 2.5]\n",
    "yhilo = [-2.5, 2.5]\n",
    "x = (xhilo[1] - xhilo[0]) * n.outer(n.ones(ny), n.arange(nx)) / float(nx-1) + xhilo[0]\n",
    "y = (yhilo[1] - yhilo[0]) * n.outer(n.arange(ny), n.ones(nx)) / float(ny-1) + yhilo[0]"
   ]
  },
  {
   "cell_type": "code",
   "execution_count": 1,
   "metadata": {},
   "outputs": [],
   "source": [
    "# Set some Gaussian blob image parameters and pack them into an array:\n",
    "g_amp = 1.0   # peak brightness value\n",
    "g_sig = 0.05  # Gaussian \"sigma\" (i.e., size)\n",
    "g_xcen = 0.0  # x position of center\n",
    "g_ycen = 0.0  # y position of center\n",
    "g_axrat = 1.0 # minor-to-major axis ratio\n",
    "g_pa = 0.0    # major-axis position angle (degrees) c.c.w. from x axis\n",
    "gpar = n.asarray([g_amp, g_sig, g_xcen, g_ycen, g_axrat, g_pa])\n",
    "\n",
    "# Have a look at the un-lensed Gaussian image:\n",
    "g_image = ldf.gauss_2d(x, y, gpar)\n",
    "f = p.imshow(g_image, **myargs)\n",
    "# IMPORTANT: Kill these imshow GUIs before redisplaying, or you will get bad memory leaks!\n",
    "# You can kill it with the \"red button\", or with the following command:\n",
    "p.close(f.get_figure().number)\n",
    "# Alternatively, if you do the following you will probably be OK redisplaying\n",
    "# without killing the GUI:\n",
    "f.axes.hold(False)\n",
    "\n",
    "# Set some SIE lens-model parameters and pack them into an array:\n",
    "l_amp = 1.5   # Einstein radius\n",
    "l_xcen = 0.0  # x position of center\n",
    "l_ycen = 0.0  # y position of center\n",
    "l_axrat = 1.0 # minor-to-major axis ratio\n",
    "l_pa = 0.0    # major-axis position angle (degrees) c.c.w. from x axis\n",
    "lpar = n.asarray([l_amp, l_xcen, l_ycen, l_axrat, l_pa])\n",
    "\n",
    "# Compute the lensing potential gradients:\n",
    "(xg, yg) = ldf.sie_grad(x, y, lpar)\n",
    "\n",
    "# Evaluate lensed Gaussian image:\n",
    "g_lensimage = ldf.gauss_2d(x-xg, y-yg, gpar)\n",
    "\n",
    "# Have a look:\n",
    "f = p.imshow(g_lensimage, **myargs)"
   ]
  },
  {
   "cell_type": "code",
   "execution_count": 69,
   "metadata": {},
   "outputs": [
    {
     "name": "stderr",
     "output_type": "stream",
     "text": [
      "/home/bob/anaconda3/lib/python3.6/site-packages/ipykernel_launcher.py:8: MatplotlibDeprecationWarning: axes.hold is deprecated.\n",
      "    See the API Changes document (http://matplotlib.org/api/api_changes.html)\n",
      "    for more details.\n",
      "  \n"
     ]
    }
   ],
   "source": [
    "# If you can recall what the parameter place values mean,\n",
    "# the following lines are most efficient for exploration:\n",
    "gpar = n.asarray([1.0, 0.05, 0.2, 0.0, 1.0, 0.0])\n",
    "lpar = n.asarray([1.5, 0.0, 0.0, 1.0, 0.0])\n",
    "(xg, yg) = ldf.sie_grad(x, y, lpar)\n",
    "g_lensimage = ldf.gauss_2d(x-xg, y-yg, gpar)\n",
    "f = p.imshow(g_lensimage, **myargs)\n",
    "f.axes.hold(False)"
   ]
  },
  {
   "cell_type": "code",
   "execution_count": 76,
   "metadata": {},
   "outputs": [
    {
     "name": "stderr",
     "output_type": "stream",
     "text": [
      "/home/bob/anaconda3/lib/python3.6/site-packages/ipykernel_launcher.py:15: DeprecationWarning: `imsave` is deprecated!\n",
      "`imsave` is deprecated in SciPy 1.0.0, and will be removed in 1.2.0.\n",
      "Use ``imageio.imwrite`` instead.\n",
      "  from ipykernel import kernelapp as app\n",
      "/home/bob/Desktop/code/Lens Simulation/Lens-Generator/lensdemo_funcs.py:122: RuntimeWarning: divide by zero encountered in true_divide\n",
      "  r_ell = N.sqrt(q * xsie**2 + ysie**2 / q)\n",
      "/home/bob/Desktop/code/Lens Simulation/Lens-Generator/lensdemo_funcs.py:123: RuntimeWarning: divide by zero encountered in double_scalars\n",
      "  qfact = N.sqrt(1./q - q)\n",
      "/home/bob/Desktop/code/Lens Simulation/Lens-Generator/lensdemo_funcs.py:126: RuntimeWarning: invalid value encountered in true_divide\n",
      "  xtg = (b/qfact) * N.arctan(qfact * xsie / (r_ell + (r_ell == 0)))\n",
      "/home/bob/Desktop/code/Lens Simulation/Lens-Generator/lensdemo_funcs.py:127: RuntimeWarning: invalid value encountered in true_divide\n",
      "  ytg = (b/qfact) * N.arctanh(qfact * ysie / (r_ell + (r_ell == 0)))\n"
     ]
    },
    {
     "data": {
      "text/plain": [
       "array([ 1.  ,  0.05,  0.2 ,  0.  ,  1.  ,  0.  ])"
      ]
     },
     "execution_count": 76,
     "metadata": {},
     "output_type": "execute_result"
    }
   ],
   "source": [
    "# Making Random lenses\n",
    "_parameters_DB = []\n",
    "for i in range(2000):\n",
    "    #gpar = round(n.random.uniform(-0.25,1.25,6)\n",
    "    #lpar = round(n.random.uniform(-0.5,0.5,5)\n",
    "    l_amp = round(n.random.uniform(0.25,2),2)  # Einstein radius\n",
    "    l_xcen = round(n.random.uniform(-1.5,1.5),2)  # x position of center\n",
    "    l_ycen = round(n.random.uniform(-1.5,1.5),2)  # y position of center\n",
    "    l_axrat = round(n.random.uniform(-1,1),2) # minor-to-major axis ratio\n",
    "    l_pa = round(n.random.uniform(-90,90),2)   # major-axis position angle (degrees) c.c.w. from x axis\n",
    "    lpar = n.asarray([l_amp, l_xcen, l_ycen, l_axrat, l_pa])\n",
    "    (xg, yg) = ldf.sie_grad(x, y, lpar)\n",
    "    g_lensimage = ldf.gauss_2d(x-xg, y-yg, gpar)\n",
    "    _parameters_DB.append([l_amp, l_xcen, l_ycen, l_axrat, l_pa])\n",
    "    imageio.imwrite(\"./images/Single lenses/{}.png\".format(i),g_lensimage)\n",
    "n.savetxt(\"./images/Single lenses/parameters_dataset.txt\",_parameters_DB)\n",
    "n.save(\"./images/Single lenses/parameters_dataset\",_parameters_DB)\n",
    "\n",
    "#p.imshow(g_lensimage, **myargs)\n",
    "gpar"
   ]
  },
  {
   "cell_type": "code",
   "execution_count": 104,
   "metadata": {},
   "outputs": [
    {
     "ename": "TypeError",
     "evalue": "Mismatch between array dtype ('object') and format specifier ('%.18e')",
     "output_type": "error",
     "traceback": [
      "\u001b[0;31m---------------------------------------------------------------------------\u001b[0m",
      "\u001b[0;31mTypeError\u001b[0m                                 Traceback (most recent call last)",
      "\u001b[0;32m~/anaconda3/lib/python3.6/site-packages/numpy/lib/npyio.py\u001b[0m in \u001b[0;36msavetxt\u001b[0;34m(fname, X, fmt, delimiter, newline, header, footer, comments)\u001b[0m\n\u001b[1;32m   1214\u001b[0m                 \u001b[0;32mtry\u001b[0m\u001b[0;34m:\u001b[0m\u001b[0;34m\u001b[0m\u001b[0m\n\u001b[0;32m-> 1215\u001b[0;31m                     \u001b[0mfh\u001b[0m\u001b[0;34m.\u001b[0m\u001b[0mwrite\u001b[0m\u001b[0;34m(\u001b[0m\u001b[0masbytes\u001b[0m\u001b[0;34m(\u001b[0m\u001b[0mformat\u001b[0m \u001b[0;34m%\u001b[0m \u001b[0mtuple\u001b[0m\u001b[0;34m(\u001b[0m\u001b[0mrow\u001b[0m\u001b[0;34m)\u001b[0m \u001b[0;34m+\u001b[0m \u001b[0mnewline\u001b[0m\u001b[0;34m)\u001b[0m\u001b[0;34m)\u001b[0m\u001b[0;34m\u001b[0m\u001b[0m\n\u001b[0m\u001b[1;32m   1216\u001b[0m                 \u001b[0;32mexcept\u001b[0m \u001b[0mTypeError\u001b[0m\u001b[0;34m:\u001b[0m\u001b[0;34m\u001b[0m\u001b[0m\n",
      "\u001b[0;31mTypeError\u001b[0m: only length-1 arrays can be converted to Python scalars",
      "\nDuring handling of the above exception, another exception occurred:\n",
      "\u001b[0;31mTypeError\u001b[0m                                 Traceback (most recent call last)",
      "\u001b[0;32m<ipython-input-104-dde6048cbe4d>\u001b[0m in \u001b[0;36m<module>\u001b[0;34m()\u001b[0m\n\u001b[1;32m     11\u001b[0m     \u001b[0m_db\u001b[0m\u001b[0;34m.\u001b[0m\u001b[0mappend\u001b[0m\u001b[0;34m(\u001b[0m\u001b[0m_ids\u001b[0m\u001b[0;34m)\u001b[0m\u001b[0;34m\u001b[0m\u001b[0m\n\u001b[1;32m     12\u001b[0m     \u001b[0mp\u001b[0m\u001b[0;34m.\u001b[0m\u001b[0mimsave\u001b[0m\u001b[0;34m(\u001b[0m\u001b[0;34m\"./images/Combined lenses/{}.png\"\u001b[0m\u001b[0;34m.\u001b[0m\u001b[0mformat\u001b[0m\u001b[0;34m(\u001b[0m\u001b[0mi\u001b[0m\u001b[0;34m)\u001b[0m\u001b[0;34m,\u001b[0m\u001b[0m_combined_image\u001b[0m\u001b[0;34m)\u001b[0m\u001b[0;34m\u001b[0m\u001b[0m\n\u001b[0;32m---> 13\u001b[0;31m     \u001b[0mn\u001b[0m\u001b[0;34m.\u001b[0m\u001b[0msavetxt\u001b[0m\u001b[0;34m(\u001b[0m\u001b[0;34m\"./images/Combined lenses/db.txt\"\u001b[0m\u001b[0;34m,\u001b[0m\u001b[0m_db\u001b[0m\u001b[0;34m)\u001b[0m\u001b[0;34m\u001b[0m\u001b[0m\n\u001b[0m\u001b[1;32m     14\u001b[0m     \u001b[0mn\u001b[0m\u001b[0;34m.\u001b[0m\u001b[0msave\u001b[0m\u001b[0;34m(\u001b[0m\u001b[0;34m\"./images/Combined lenses/db\"\u001b[0m\u001b[0;34m,\u001b[0m\u001b[0m_db\u001b[0m\u001b[0;34m)\u001b[0m\u001b[0;34m\u001b[0m\u001b[0m\n",
      "\u001b[0;32m~/anaconda3/lib/python3.6/site-packages/numpy/lib/npyio.py\u001b[0m in \u001b[0;36msavetxt\u001b[0;34m(fname, X, fmt, delimiter, newline, header, footer, comments)\u001b[0m\n\u001b[1;32m   1217\u001b[0m                     raise TypeError(\"Mismatch between array dtype ('%s') and \"\n\u001b[1;32m   1218\u001b[0m                                     \u001b[0;34m\"format specifier ('%s')\"\u001b[0m\u001b[0;34m\u001b[0m\u001b[0m\n\u001b[0;32m-> 1219\u001b[0;31m                                     % (str(X.dtype), format))\n\u001b[0m\u001b[1;32m   1220\u001b[0m         \u001b[0;32mif\u001b[0m \u001b[0mlen\u001b[0m\u001b[0;34m(\u001b[0m\u001b[0mfooter\u001b[0m\u001b[0;34m)\u001b[0m \u001b[0;34m>\u001b[0m \u001b[0;36m0\u001b[0m\u001b[0;34m:\u001b[0m\u001b[0;34m\u001b[0m\u001b[0m\n\u001b[1;32m   1221\u001b[0m             \u001b[0mfooter\u001b[0m \u001b[0;34m=\u001b[0m \u001b[0mfooter\u001b[0m\u001b[0;34m.\u001b[0m\u001b[0mreplace\u001b[0m\u001b[0;34m(\u001b[0m\u001b[0;34m'\\n'\u001b[0m\u001b[0;34m,\u001b[0m \u001b[0;34m'\\n'\u001b[0m \u001b[0;34m+\u001b[0m \u001b[0mcomments\u001b[0m\u001b[0;34m)\u001b[0m\u001b[0;34m\u001b[0m\u001b[0m\n",
      "\u001b[0;31mTypeError\u001b[0m: Mismatch between array dtype ('object') and format specifier ('%.18e')"
     ]
    }
   ],
   "source": [
    "# select random lenses and combine them\n",
    "_db = []\n",
    "for i in range(50):\n",
    "    _num = n.random.randint(2,5)\n",
    "    _ids = n.random.randint(0,1999,_num)\n",
    "    _combined_image = n.zeros((192,192))\n",
    "    for _id in _ids:\n",
    "        _im = imageio.imread(\"./images/Single lenses/{}.png\".format(_id))\n",
    "        _combined_image += _im\n",
    "    #_combined_image *= (255.0/_combined_image.max())\n",
    "    _db.append(_ids)\n",
    "    imageio.imwrite(\"./images/Combined lenses/{}.png\".format(i),_combined_image)\n",
    "    n.savetxt(\"./images/Combined lenses/db.txt\",_db)\n",
    "    n.save(\"./images/Combined lenses/db\",_db)"
   ]
  },
  {
   "cell_type": "code",
   "execution_count": 82,
   "metadata": {},
   "outputs": [
    {
     "data": {
      "text/plain": [
       "array([890, 718, 397, 269])"
      ]
     },
     "execution_count": 82,
     "metadata": {},
     "output_type": "execute_result"
    }
   ],
   "source": [
    "_num = n.random.randint(2,5)\n",
    "_ids = n.random.randint(0,1999,_num)\n"
   ]
  },
  {
   "cell_type": "code",
   "execution_count": 1,
   "metadata": {},
   "outputs": [
    {
     "ename": "NameError",
     "evalue": "name 'n' is not defined",
     "output_type": "error",
     "traceback": [
      "\u001b[0;31m---------------------------------------------------------------------------\u001b[0m",
      "\u001b[0;31mNameError\u001b[0m                                 Traceback (most recent call last)",
      "\u001b[0;32m<ipython-input-1-ef39dc0c012b>\u001b[0m in \u001b[0;36m<module>\u001b[0;34m()\u001b[0m\n\u001b[1;32m      1\u001b[0m \u001b[0;31m# The following lines will plot the un-lensed and lensed images side by side:\u001b[0m\u001b[0;34m\u001b[0m\u001b[0;34m\u001b[0m\u001b[0m\n\u001b[0;32m----> 2\u001b[0;31m \u001b[0mgpar\u001b[0m \u001b[0;34m=\u001b[0m \u001b[0mn\u001b[0m\u001b[0;34m.\u001b[0m\u001b[0masarray\u001b[0m\u001b[0;34m(\u001b[0m\u001b[0;34m[\u001b[0m\u001b[0;36m1.0\u001b[0m\u001b[0;34m,\u001b[0m \u001b[0;36m0.05\u001b[0m\u001b[0;34m,\u001b[0m \u001b[0;36m0.0\u001b[0m\u001b[0;34m,\u001b[0m \u001b[0;36m0.0\u001b[0m\u001b[0;34m,\u001b[0m \u001b[0;36m1.0\u001b[0m\u001b[0;34m,\u001b[0m \u001b[0;36m0.0\u001b[0m\u001b[0;34m]\u001b[0m\u001b[0;34m)\u001b[0m\u001b[0;34m\u001b[0m\u001b[0m\n\u001b[0m\u001b[1;32m      3\u001b[0m \u001b[0mlpar\u001b[0m \u001b[0;34m=\u001b[0m \u001b[0mn\u001b[0m\u001b[0;34m.\u001b[0m\u001b[0masarray\u001b[0m\u001b[0;34m(\u001b[0m\u001b[0;34m[\u001b[0m\u001b[0;36m1.0\u001b[0m\u001b[0;34m,\u001b[0m \u001b[0;36m0.0\u001b[0m\u001b[0;34m,\u001b[0m \u001b[0;36m0.0\u001b[0m\u001b[0;34m,\u001b[0m \u001b[0;36m1.0\u001b[0m\u001b[0;34m,\u001b[0m \u001b[0;36m0.0\u001b[0m\u001b[0;34m]\u001b[0m\u001b[0;34m)\u001b[0m\u001b[0;34m\u001b[0m\u001b[0m\n\u001b[1;32m      4\u001b[0m \u001b[0mg_image\u001b[0m \u001b[0;34m=\u001b[0m \u001b[0mldf\u001b[0m\u001b[0;34m.\u001b[0m\u001b[0mgauss_2d\u001b[0m\u001b[0;34m(\u001b[0m\u001b[0mx\u001b[0m\u001b[0;34m,\u001b[0m \u001b[0my\u001b[0m\u001b[0;34m,\u001b[0m \u001b[0mgpar\u001b[0m\u001b[0;34m)\u001b[0m\u001b[0;34m\u001b[0m\u001b[0m\n\u001b[1;32m      5\u001b[0m \u001b[0;34m(\u001b[0m\u001b[0mxg\u001b[0m\u001b[0;34m,\u001b[0m \u001b[0myg\u001b[0m\u001b[0;34m)\u001b[0m \u001b[0;34m=\u001b[0m \u001b[0mldf\u001b[0m\u001b[0;34m.\u001b[0m\u001b[0msie_grad\u001b[0m\u001b[0;34m(\u001b[0m\u001b[0mx\u001b[0m\u001b[0;34m,\u001b[0m \u001b[0my\u001b[0m\u001b[0;34m,\u001b[0m \u001b[0mlpar\u001b[0m\u001b[0;34m)\u001b[0m\u001b[0;34m\u001b[0m\u001b[0m\n",
      "\u001b[0;31mNameError\u001b[0m: name 'n' is not defined"
     ]
    }
   ],
   "source": [
    "# The following lines will plot the un-lensed and lensed images side by side:\n",
    "gpar = n.asarray([1.0, 0.05, 0.0, 0.0, 1.0, 0.0])\n",
    "lpar = n.asarray([1.0, 0.0, 0.0, 1.0, 0.0])\n",
    "g_image = ldf.gauss_2d(x, y, gpar)\n",
    "(xg, yg) = ldf.sie_grad(x, y, lpar)\n",
    "g_lensimage = ldf.gauss_2d(x-xg, y-yg, gpar)\n",
    "f = p.imshow(n.hstack((g_image, g_lensimage)), **myargs)"
   ]
  },
  {
   "cell_type": "code",
   "execution_count": 1,
   "metadata": {},
   "outputs": [
    {
     "name": "stderr",
     "output_type": "stream",
     "text": [
      "/home/bob/anaconda3/lib/python3.6/site-packages/ipykernel_launcher.py:63: MatplotlibDeprecationWarning: axes.hold is deprecated.\n",
      "    See the API Changes document (http://matplotlib.org/api/api_changes.html)\n",
      "    for more details.\n",
      "/home/bob/anaconda3/lib/python3.6/site-packages/ipykernel_launcher.py:89: MatplotlibDeprecationWarning: axes.hold is deprecated.\n",
      "    See the API Changes document (http://matplotlib.org/api/api_changes.html)\n",
      "    for more details.\n"
     ]
    }
   ],
   "source": [
    "# The following lines can be used to verify that the SIE potential gradient\n",
    "# function actually computes what is is supposed to compute!\n",
    "# Feel free to disregard...\n",
    "\n",
    "# Pick some arbitrary lens parameters:\n",
    "lpar = n.asarray([1.11, -0.23, 0.59, 0.72, 33.3])\n",
    "# Compute the gradients:\n",
    "(xg, yg) = ldf.sie_grad(x, y, lpar)\n",
    "# Compute convergence as half the Laplacian of the potential from the gradients:\n",
    "kappa_g = 0.5 * ( (xg[1:-1,2:] - xg[1:-1,0:-2]) / (x[1:-1,2:] - x[1:-1,0:-2]) +\n",
    "                  (yg[2:,1:-1] - yg[0:-2,1:-1]) / (y[2:,1:-1] - y[0:-2,1:-1]))\n",
    "# Compute the expected analytic convergence for these lens parameters:\n",
    "(xn, yn) = ldf.xy_rotate(x, y, lpar[1], lpar[2], lpar[4])\n",
    "kappa_a = 0.5 * lpar[0] / n.sqrt(lpar[3]*xn[1:-1,1:-1]**2 + yn[1:-1,1:-1]**2 / lpar[3])\n",
    "\n",
    "f = p.imshow(n.hstack((n.log(kappa_g), n.log(kappa_a), n.log(kappa_g) - n.log(kappa_a))),\n",
    "             vmax=n.log(kappa_g).max(), vmin=n.log(kappa_g).min(), **myargs)\n",
    "# OK, looks good!  Some disagreement in the center, which is to be expected."
   ]
  }
 ],
 "metadata": {
  "kernelspec": {
   "display_name": "Python 3",
   "language": "python",
   "name": "python3"
  },
  "language_info": {
   "codemirror_mode": {
    "name": "ipython",
    "version": 3
   },
   "file_extension": ".py",
   "mimetype": "text/x-python",
   "name": "python",
   "nbconvert_exporter": "python",
   "pygments_lexer": "ipython3",
   "version": "3.6.2"
  }
 },
 "nbformat": 4,
 "nbformat_minor": 2
}
